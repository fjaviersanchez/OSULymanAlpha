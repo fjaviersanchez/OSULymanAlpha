{
 "cells": [
  {
   "cell_type": "markdown",
   "metadata": {},
   "source": [
    "# Testing classification results"
   ]
  },
  {
   "cell_type": "code",
   "execution_count": 23,
   "metadata": {
    "collapsed": true
   },
   "outputs": [],
   "source": [
    "from astropy.table import Table\n",
    "from astropy.table import join\n",
    "import numpy as np\n",
    "def test_results(results_table_path,truth_table_path):\n",
    "    results_table = Table.read(results_table_path)\n",
    "    truth_table = Table.read(truth_table_path)\n",
    "    joint_table = join(results_table,truth_table,'TARGETID')\n",
    "    detected_qso = joint_table['OBJTYPE']=='QSO'\n",
    "    detected_star = joint_table['OBJTYPE']=='STAR'\n",
    "    real_qso = joint_table['TRUE_OBJTYPE']=='QSO'\n",
    "    real_star = joint_table['TRUE_OBJTYPE']=='STAR'\n",
    "    good_qso = np.logical_and(detected_qso,real_qso)\n",
    "    good_star = np.logical_and(detected_star,real_star)\n",
    "    bad_qso = np.logical_and(detected_qso,real_star)\n",
    "    bad_star = np.logical_and(detected_star,real_qso)\n",
    "    nqso_good = np.count_nonzero(good_qso)\n",
    "    nstar_good = np.count_nonzero(good_star)\n",
    "    nqso_bad = np.count_nonzero(bad_qso)\n",
    "    nstar_bad = np.count_nonzero(bad_star)\n",
    "    rqso_qso =nqso_good/(1.0*len(real_qso))\n",
    "    rqso_star = nstar_bad/(1.0*len(real_qso))\n",
    "    rstar_qso = nqso_bad/(1.0*len(real_star))\n",
    "    rstar_star = nstar_good/(1.0*len(real_star))\n",
    "    print 'Ratio of QSO detected as QSO %.3f' %(rqso_qso)\n",
    "    print 'Ratio of QSO detected as STAR %.3f'%(rqso_star)\n",
    "    print 'Ratio of STARS detected as QSO %.3f'%(rstar_qso)\n",
    "    print 'Ratio of STARS detected as STARS %.3f' %(rstar_star)"
   ]
  },
  {
   "cell_type": "markdown",
   "metadata": {},
   "source": [
    "The output table should contain at least the `'TARGETID'` and `'OBJTYPE'` columns and be in "
   ]
  },
  {
   "cell_type": "code",
   "execution_count": 14,
   "metadata": {
    "collapsed": true
   },
   "outputs": [],
   "source": [
    "fake_ids = np.array([['QSO']*1000,['STAR']*1000])"
   ]
  },
  {
   "cell_type": "code",
   "execution_count": 15,
   "metadata": {
    "collapsed": false
   },
   "outputs": [],
   "source": [
    "fake_ids = fake_ids.flatten()"
   ]
  },
  {
   "cell_type": "code",
   "execution_count": 6,
   "metadata": {
    "collapsed": true
   },
   "outputs": [],
   "source": [
    "tab = Table.read()"
   ]
  },
  {
   "cell_type": "code",
   "execution_count": 16,
   "metadata": {
    "collapsed": true
   },
   "outputs": [],
   "source": [
    "targetid = tab['TARGETID'].data"
   ]
  },
  {
   "cell_type": "code",
   "execution_count": 17,
   "metadata": {
    "collapsed": false
   },
   "outputs": [],
   "source": [
    "np.random.shuffle(fake_ids)"
   ]
  },
  {
   "cell_type": "code",
   "execution_count": 18,
   "metadata": {
    "collapsed": false
   },
   "outputs": [],
   "source": [
    "test_table = Table([targetid,fake_ids],names=('TARGETID','OBJTYPE'))"
   ]
  },
  {
   "cell_type": "code",
   "execution_count": 19,
   "metadata": {
    "collapsed": true
   },
   "outputs": [],
   "source": [
    "test_table.write()"
   ]
  },
  {
   "cell_type": "code",
   "execution_count": 24,
   "metadata": {
    "collapsed": false
   },
   "outputs": [
    {
     "name": "stdout",
     "output_type": "stream",
     "text": [
      "Ratio of QSO detected as QSO 0.259\n",
      "Ratio of QSO detected as STAR 0.241\n",
      "Ratio of STARS detected as QSO 0.241\n",
      "Ratio of STARS detected as STARS 0.259\n"
     ]
    }
   ],
   "source": [
    "test_results()"
   ]
  },
  {
   "cell_type": "code",
   "execution_count": null,
   "metadata": {
    "collapsed": true
   },
   "outputs": [],
   "source": []
  }
 ],
 "metadata": {
  "kernelspec": {
   "display_name": "Python 2",
   "language": "python",
   "name": "python2"
  },
  "language_info": {
   "codemirror_mode": {
    "name": "ipython",
    "version": 2
   },
   "file_extension": ".py",
   "mimetype": "text/x-python",
   "name": "python",
   "nbconvert_exporter": "python",
   "pygments_lexer": "ipython2",
   "version": "2.7.12"
  }
 },
 "nbformat": 4,
 "nbformat_minor": 0
}
