{
 "cells": [
  {
   "cell_type": "markdown",
   "metadata": {},
   "source": [
    "This notebook is an example of typical classification codes for the OSU meeting QSO data-challenge. To use the KNN and BDT classifiers you will need the `sklearn`. For the last example (MLP) you will need the `keras` package."
   ]
  },
  {
   "cell_type": "code",
   "execution_count": 1,
   "metadata": {
    "collapsed": false
   },
   "outputs": [
    {
     "name": "stdout",
     "output_type": "stream",
     "text": [
      "Populating the interactive namespace from numpy and matplotlib\n"
     ]
    }
   ],
   "source": [
    "%pylab inline"
   ]
  },
  {
   "cell_type": "code",
   "execution_count": 2,
   "metadata": {
    "collapsed": true
   },
   "outputs": [],
   "source": [
    "from astropy.table import Table\n",
    "from astropy.table import join\n",
    "import astropy.io.fits as fits\n",
    "import speclite #To downsample\n",
    "import os"
   ]
  },
  {
   "cell_type": "markdown",
   "metadata": {},
   "source": [
    "The data from DESI will be delivered in `brick` files. This function reads them."
   ]
  },
  {
   "cell_type": "code",
   "execution_count": 3,
   "metadata": {
    "collapsed": true
   },
   "outputs": [],
   "source": [
    "def readBricks(path_in,brick_name):\n",
    "    hdus = []\n",
    "    for channel in 'brz':\n",
    "        filename = 'brick-{}-{}.fits'.format(channel,brick_name)\n",
    "        hdulist = fits.open(os.path.join(path_in,filename))\n",
    "        hdus.append(hdulist)\n",
    "    return hdus"
   ]
  },
  {
   "cell_type": "code",
   "execution_count": 6,
   "metadata": {
    "collapsed": false
   },
   "outputs": [
    {
     "name": "stdout",
     "output_type": "stream",
     "text": [
      "(3000, 4760) (3000, 4232) (3000, 4798)\n"
     ]
    }
   ],
   "source": [
    "hdus = readBricks(os.environ['FAKE_QSO_PATH'],'all-osu')\n",
    "print hdus[0][0].shape, hdus[1][0].shape, hdus[2][0].shape"
   ]
  },
  {
   "cell_type": "markdown",
   "metadata": {},
   "source": [
    "In this example we decided to downsample to have a more tractable input signal"
   ]
  },
  {
   "cell_type": "code",
   "execution_count": 7,
   "metadata": {
    "collapsed": true
   },
   "outputs": [],
   "source": [
    "def downsample(camera,nspec,ndownsample, si=0):\n",
    "    data = np.ones((nspec,len(hdus[camera][2].data[si:])), dtype=[('flux', float), ('ivar',float)])\n",
    "    data['flux']=hdus[camera][0].data[:,si:]\n",
    "    data['ivar']=hdus[camera][1].data[:,si:]\n",
    "    return speclite.downsample(data,ndownsample,axis=1,weight='ivar')"
   ]
  },
  {
   "cell_type": "code",
   "execution_count": 8,
   "metadata": {
    "collapsed": false
   },
   "outputs": [
    {
     "name": "stdout",
     "output_type": "stream",
     "text": [
      "(3000, 238) (3000, 184) (3000, 137)\n"
     ]
    }
   ],
   "source": [
    "flux_b = downsample(0,3000,20)\n",
    "flux_r = downsample(1,3000,23)\n",
    "flux_z = downsample(2,3000,35,si=3)\n",
    "print flux_b.shape, flux_r.shape, flux_z.shape"
   ]
  },
  {
   "cell_type": "code",
   "execution_count": 9,
   "metadata": {
    "collapsed": false
   },
   "outputs": [
    {
     "name": "stdout",
     "output_type": "stream",
     "text": [
      "(3000, 559)\n"
     ]
    }
   ],
   "source": [
    "qso_flux = np.hstack([flux_b,flux_r,flux_z])\n",
    "print qso_flux.shape"
   ]
  },
  {
   "cell_type": "code",
   "execution_count": 10,
   "metadata": {
    "collapsed": true
   },
   "outputs": [],
   "source": [
    "table_train = Table.read(os.path.join(os.environ['FAKE_QSO_PATH'],'training_table_all.fits.gz'))"
   ]
  },
  {
   "cell_type": "code",
   "execution_count": 11,
   "metadata": {
    "collapsed": false
   },
   "outputs": [],
   "source": [
    "from sklearn.preprocessing import LabelEncoder\n",
    "from sklearn.preprocessing import StandardScaler\n",
    "#We use LabelEncoder that translates a label into an integer\n",
    "encoder = LabelEncoder()\n",
    "encoder.fit(table_train['TRUE_OBJTYPE'])\n",
    "encoded_Y = encoder.transform(table_train['TRUE_OBJTYPE'])\n",
    "#Now we have our data prepared"
   ]
  },
  {
   "cell_type": "code",
   "execution_count": 12,
   "metadata": {
    "collapsed": false
   },
   "outputs": [],
   "source": [
    "#We use 750 samples to train our algorithms and the rest for testing\n",
    "ntrain=750\n",
    "qso_class_train = encoded_Y[:ntrain]\n",
    "qso_class_test = encoded_Y[ntrain:len(encoded_Y)]\n",
    "qso_flux_train = qso_flux[:ntrain]\n",
    "qso_flux_test = qso_flux[ntrain:len(encoded_Y)]"
   ]
  },
  {
   "cell_type": "markdown",
   "metadata": {},
   "source": [
    "# KNN classifier"
   ]
  },
  {
   "cell_type": "code",
   "execution_count": 13,
   "metadata": {
    "collapsed": true
   },
   "outputs": [],
   "source": [
    "def quassifier_knn(kn):\n",
    "    from sklearn.neighbors import KNeighborsClassifier\n",
    "    efficiency = np.zeros(len(kn))\n",
    "    purity = np.zeros(len(kn))\n",
    "    i_best = 0\n",
    "    qso_fit_best = None\n",
    "\n",
    "    for i, knn in enumerate(kn):\n",
    "        knc = KNeighborsClassifier(n_neighbors=knn)\n",
    "        knc.fit(qso_flux_train, qso_class_train)\n",
    "\n",
    "        qso_fit_train = knc.predict(qso_flux_train)\n",
    "        qso_fit = knc.predict(qso_flux_test)\n",
    "        good = np.count_nonzero(qso_fit==qso_class_test)/(1.0*len(qso_class_test))\n",
    "        efficiency[i]=good\n",
    "        if(good>qso_fit_best):\n",
    "            qso_fit_best = good\n",
    "            i_best = i\n",
    "    plt.scatter(kn,efficiency)\n",
    "    plt.xlabel('Number of neighbors')\n",
    "    plt.ylabel('Efficiency')\n",
    "    knc = KNeighborsClassifier(n_neighbors=kn[i_best])\n",
    "    knc.fit(qso_flux_train,qso_class_train)\n",
    "    results = knc.predict(qso_flux)\n",
    "    return results"
   ]
  },
  {
   "cell_type": "code",
   "execution_count": 14,
   "metadata": {
    "collapsed": false
   },
   "outputs": [
    {
     "data": {
      "image/png": "[encoded data removed]",
      "text/plain": [
       "<matplotlib.figure.Figure at 0x1950c1350>"
      ]
     },
     "metadata": {},
     "output_type": "display_data"
    }
   ],
   "source": [
    "results = quassifier_knn(np.arange(2,10))"
   ]
  },
  {
   "cell_type": "markdown",
   "metadata": {},
   "source": [
    "# BDT classifier (adaboost)"
   ]
  },
  {
   "cell_type": "markdown",
   "metadata": {},
   "source": [
    "https://en.wikipedia.org/wiki/AdaBoost"
   ]
  },
  {
   "cell_type": "code",
   "execution_count": 15,
   "metadata": {
    "collapsed": true
   },
   "outputs": [],
   "source": [
    "def quassify_adaboost(number_estimators):\n",
    "    from sklearn.ensemble import AdaBoostClassifier\n",
    "    from sklearn.tree import DecisionTreeClassifier\n",
    "    efficiency = np.zeros(len(number_estimators))\n",
    "    purity = np.zeros(len(number_estimators))\n",
    "    i_best =0\n",
    "    qso_fit_best = None\n",
    "    for i, ne in enumerate(number_estimators):\n",
    "        bdt = AdaBoostClassifier(DecisionTreeClassifier(max_depth=1),\n",
    "                         algorithm=\"SAMME\",n_estimators=ne)\n",
    "        bdt.fit(qso_flux_train,qso_class_train)\n",
    "        qso_fit = bdt.predict(qso_flux_test)\n",
    "        good = np.count_nonzero(qso_fit==qso_class_test)/(1.0*len(qso_class_test))\n",
    "        efficiency[i]=good\n",
    "        if(good>qso_fit_best):\n",
    "            qso_fit_best = good\n",
    "            i_best = i\n",
    "    plt.scatter(number_estimators,efficiency)\n",
    "    plt.xlabel('Number of estimators')\n",
    "    plt.ylabel('Efficiency')\n",
    "    bdt = AdaBoostClassifier(DecisionTreeClassifier(max_depth=1),\n",
    "                         algorithm=\"SAMME\",n_estimators=number_estimators[i_best])\n",
    "    bdt.fit(qso_flux_train,qso_class_train)\n",
    "    results = bdt.predict(qso_flux)\n",
    "    return results"
   ]
  },
  {
   "cell_type": "code",
   "execution_count": 16,
   "metadata": {
    "collapsed": false
   },
   "outputs": [
    {
     "data": {
      "image/png": "[encoded data removed]",
      "text/plain": [
       "<matplotlib.figure.Figure at 0x1953645d0>"
      ]
     },
     "metadata": {},
     "output_type": "display_data"
    }
   ],
   "source": [
    "predicted_adaboost = quassify_adaboost(np.arange(50,200,25))"
   ]
  },
  {
   "cell_type": "code",
   "execution_count": 17,
   "metadata": {
    "collapsed": false
   },
   "outputs": [
    {
     "data": {
      "image/png": "[encoded data removed]",
      "text/plain": [
       "<matplotlib.figure.Figure at 0x19527a9d0>"
      ]
     },
     "metadata": {},
     "output_type": "display_data"
    }
   ],
   "source": [
    "plt.hist(predicted_adaboost);"
   ]
  },
  {
   "cell_type": "markdown",
   "metadata": {},
   "source": [
    "# Dense ANN"
   ]
  },
  {
   "cell_type": "code",
   "execution_count": 18,
   "metadata": {
    "collapsed": false
   },
   "outputs": [
    {
     "name": "stderr",
     "output_type": "stream",
     "text": [
      "Using Theano backend.\n"
     ]
    }
   ],
   "source": [
    "from keras.models import Sequential\n",
    "from keras.layers import Dense, Dropout\n",
    "from keras.wrappers.scikit_learn import KerasClassifier\n",
    "from sklearn.model_selection import cross_val_score\n",
    "from sklearn.model_selection import StratifiedKFold, KFold\n",
    "from sklearn.pipeline import Pipeline\n",
    "from keras.layers.recurrent import LSTM\n",
    "from keras.utils import np_utils\n",
    "dummy_y = np_utils.to_categorical(encoded_Y)"
   ]
  },
  {
   "cell_type": "code",
   "execution_count": 19,
   "metadata": {
    "collapsed": true
   },
   "outputs": [],
   "source": [
    "seed = 7\n",
    "numpy.random.seed(seed)"
   ]
  },
  {
   "cell_type": "code",
   "execution_count": 20,
   "metadata": {
    "collapsed": true
   },
   "outputs": [],
   "source": [
    "def create_baseline():\n",
    "    model = Sequential()\n",
    "    model.add(Dense(128, input_dim=qso_flux.shape[1], init='normal', activation='relu'))\n",
    "    model.add(Dense(32, init='normal', activation='relu'))\n",
    "    model.add(Dropout(0.25))\n",
    "    model.add(Dense(16, init='normal', activation='relu'))\n",
    "    model.add(Dense(8, init='normal', activation='relu'))\n",
    "    model.add(Dense(4, init='normal', activation='sigmoid'))\n",
    "    model.compile(loss='categorical_crossentropy', optimizer='adam', metrics=['accuracy'])\n",
    "    return model"
   ]
  },
  {
   "cell_type": "code",
   "execution_count": null,
   "metadata": {
    "collapsed": false
   },
   "outputs": [],
   "source": [
    "estimator = KerasClassifier(build_fn=create_baseline, nb_epoch=100, batch_size=100, verbose=0)\n",
    "kfold = KFold(n_splits=10, shuffle=True, random_state=seed)\n",
    "results = cross_val_score(estimator, qso_flux[0:len(encoded_Y)], dummy_y, cv=kfold)\n",
    "print(\"Results: %.2f%% (%.2f%%)\" % (results.mean()*100, results.std()*100))"
   ]
  },
  {
   "cell_type": "code",
   "execution_count": null,
   "metadata": {
    "collapsed": true
   },
   "outputs": [],
   "source": []
  }
 ],
 "metadata": {
  "kernelspec": {
   "display_name": "Python 2",
   "language": "python",
   "name": "python2"
  },
  "language_info": {
   "codemirror_mode": {
    "name": "ipython",
    "version": 2
   },
   "file_extension": ".py",
   "mimetype": "text/x-python",
   "name": "python",
   "nbconvert_exporter": "python",
   "pygments_lexer": "ipython2",
   "version": "2.7.12"
  }
 },
 "nbformat": 4,
 "nbformat_minor": 0
}
